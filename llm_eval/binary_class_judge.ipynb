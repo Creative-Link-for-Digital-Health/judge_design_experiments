{
 "cells": [
  {
   "cell_type": "markdown",
   "id": "f4821054",
   "metadata": {},
   "source": [
    "# Generate Binary Classifications "
   ]
  },
  {
   "cell_type": "markdown",
   "id": "c38ea4b4",
   "metadata": {},
   "source": [
    "### Prompt A"
   ]
  },
  {
   "cell_type": "markdown",
   "id": "0892124f",
   "metadata": {},
   "source": [
    "### Prompt B"
   ]
  }
 ],
 "metadata": {
  "language_info": {
   "name": "python"
  }
 },
 "nbformat": 4,
 "nbformat_minor": 5
}
