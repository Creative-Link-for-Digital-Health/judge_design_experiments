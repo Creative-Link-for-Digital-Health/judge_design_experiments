{
 "cells": [
  {
   "cell_type": "markdown",
   "id": "eedf9f23",
   "metadata": {},
   "source": [
    "# Who is Judging the Judges?"
   ]
  }
 ],
 "metadata": {
  "kernelspec": {
   "display_name": "conversation-manager",
   "language": "python",
   "name": "python3"
  },
  "language_info": {
   "name": "python",
   "version": "3.11.13"
  }
 },
 "nbformat": 4,
 "nbformat_minor": 5
}
